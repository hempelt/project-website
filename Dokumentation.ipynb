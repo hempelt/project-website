{
 "cells": [
  {
   "cell_type": "markdown",
   "metadata": {},
   "source": [
    "## Projekt Webseite - Fitness Tracker"
   ]
  },
  {
   "cell_type": "markdown",
   "metadata": {},
   "source": [
    "### Einleitung"
   ]
  },
  {
   "cell_type": "markdown",
   "metadata": {},
   "source": [
    "Die Webseite ist ein persönliches Fitness-Tracking-Tool, das speziell für die Dokumentation von Gewicht und Hüftumfang entwickelt wurde. Nach dem Login können Benutzer über die Check-in-Funktion regelmäßig ihre Messungen eingeben, die dann in einer übersichtlichen Tabelle gespeichert werden. Das Dashboard visualisiert die Entwicklung der Messungen über Zeit in einem interaktiven Liniendiagramm, wobei einzelne Messreihen ein- oder ausgeblendet werden können. Die Benutzeroberfläche ist komplett auf Deutsch und bietet eine intuitive Navigation mit drei Hauptbereichen: Check-in für neue Einträge, Daten für die tabellarische Übersicht und Dashboard für die grafische Darstellung. Das System verfügt über ein sicheres Login-System, sodass jeder Benutzer nur seine eigenen Daten sehen und verwalten kann. "
   ]
  },
  {
   "cell_type": "markdown",
   "metadata": {},
   "source": [
    "### Technische Architektur"
   ]
  },
  {
   "cell_type": "markdown",
   "metadata": {},
   "source": [
    "Die Webseite basiert auf dem modernen Next.js 15.3.2 Framework, das auf React 19.0.0 aufbaut und Server-Side Rendering sowie optimierte Performance ermöglicht. Für die Datenspeicherung wird eine PostgreSQL-Datenbank verwendet, die über eine sichere Verbindung mit dem Backend kommuniziert und die Messdaten der Benutzer persistent speichert. Die Datenvisualisierung wird durch die Recharts-Bibliothek realisiert, die interaktive und responsive Diagramme ermöglicht, während die Authentifizierung über NextAuth.js implementiert ist und ein sicheres Login-System bereitstellt. Das Frontend ist mit Tailwind CSS gestaltet, was eine moderne, responsive Benutzeroberfläche gewährleistet, und die API-Routen sind in der pages/api-Directory organisiert, die RESTful-Endpunkte für die Datenverwaltung bereitstellt. Die gesamte Anwendung folgt einer klaren Komponenten-Struktur, wobei die Hauptfunktionalitäten in separate React-Komponenten aufgeteilt sind und durch Hooks wie useState und useEffect für das State-Management und die Datenverarbeitung ergänzt werden."
   ]
  },
  {
   "cell_type": "markdown",
   "metadata": {},
   "source": [
    "### Hauptfunktionen"
   ]
  },
  {
   "cell_type": "markdown",
   "metadata": {},
   "source": [
    "**Authentifizierung**\n",
    "\n",
    "Das Authentifizierungssystem der Webseite basiert auf next-auth und bietet eine sichere und zuverlässige Benutzerverwaltung, wobei die eigene Login-Seite (login.js) eine benutzerfreundliche Anmeldung ermöglicht und die Sitzungsverwaltung automatisch handhabt. \n",
    "\n",
    "**Daten Bearbeitung**\n",
    "\n",
    "Die Dateneingabe erfolgt über ein React-Formular auf der Check-in-Seite, das die Eingabewerte in den States gewicht, hueftumfang und datum speichert und diese nach der Validierung als JSON-Objekt an den /api/check_in Endpunkt sendet. Der API-Endpunkt verarbeitet die eingehenden Daten mit dem pg-Paket, führt eine SQL-Insert-Operation in der PostgreSQL-Datenbank durch und gibt eine Bestätigung oder Fehlermeldung zurück, die dann im Frontend entsprechend angezeigt wird.\n",
    "\n",
    "\n",
    "**Datenvisualisierung**\n",
    "\n",
    "Die Datenvisualisierung wird durch die Kombination von recharts und rc-slider realisiert, wobei recharts die Erstellung interaktiver und responsiver Diagramme ermöglicht, während rc-slider zusätzliche interaktive Steuerelemente für eine verbesserte Benutzerinteraktion bereitstellt. \n",
    "\n",
    "**Backend-Integration**\n",
    "\n",
    "Die Backend-Integration verbindet die Anwendung mit einer PostgreSQL-Datenbank über das pg-Paket und stellt RESTful API-Endpunkte im Verzeichnis /pages/api bereit, die eine effiziente Datenverwaltung und -verarbeitung gewährleisten."
   ]
  },
  {
   "cell_type": "markdown",
   "metadata": {},
   "source": [
    "### Seitenstruktur"
   ]
  },
  {
   "cell_type": "markdown",
   "metadata": {},
   "source": [
    "Die Webseite ist in fünf Hauptbereiche gegliedert: eine Login-Seite für die Benutzerauthentifizierung, eine Startseite als zentrales Navigationszentrum, ein Dashboard für die Datenvisualisierung, eine Check-in-Seite für die Dateneingabe und eine Datenübersichtsseite für die Verwaltung der gespeicherten Informationen. Jeder dieser Bereiche ist über eine RESTful API mit dem Backend verbunden, das die Daten in einer PostgreSQL-Datenbank speichert und über verschiedene API-Endpunkte für die Datenverwaltung, Check-ins und Authentifizierung verfügt. Die Benutzeroberfläche ist intuitiv gestaltet, wobei die Startseite als zentraler Hub dient, von dem aus alle anderen Funktionen über ein übersichtliches Navigationsmenü erreicht werden können, und das Dashboard die gesammelten Daten in interaktiven Diagrammen visualisiert."
   ]
  },
  {
   "cell_type": "markdown",
   "metadata": {},
   "source": [
    "| Bereich          | Beschreibung                                                                                   | Verbindung zum Backend                             | Funktionen / Besonderheiten                         |\n",
    "|------------------|-----------------------------------------------------------------------------------------------|--------------------------------------------------|----------------------------------------------------|\n",
    "| Login-Seite      | Benutzerauthentifizierung                                                                     | RESTful API für Authentifizierung                 | Benutzeranmeldung, Session-Verwaltung              |\n",
    "| Startseite       | Zentrales Navigationszentrum                                                                  | Verbindet zu allen anderen Seiten via Navigation  | Übersichtliches Menü, zentrale Steuerung           |\n",
    "| Dashboard       | Datenvisualisierung                                                                            | RESTful API für Datenabruf und -visualisierung    | Interaktive Diagramme, Echtzeit-Daten               |\n",
    "| Check-in-Seite  | Dateneingabe                                                                                   | RESTful API zur Speicherung von Check-in-Daten    | Formulareingabe, Validierung, Datenübermittlung    |\n",
    "| Datenübersicht   | Verwaltung der gespeicherten Informationen                                                    | RESTful API für Datenverwaltung                    | Listenansicht, Bearbeiten, Löschen, Filtern         |\n"
   ]
  },
  {
   "cell_type": "markdown",
   "metadata": {},
   "source": [
    "### Datenbank Integration"
   ]
  },
  {
   "cell_type": "markdown",
   "metadata": {},
   "source": [
    "Die Datenbankintegration der Webseite basiert auf dem node-postgres (pg) Paket, das einen effizienten Connection Pool für die Verbindung zur PostgreSQL-Datenbank bereitstellt. Die Konfiguration der Datenbankverbindung erfolgt über eine zentrale Konfigurationsdatei, die die Verbindungsparameter wie Host, Port, Datenbankname und Benutzeranmeldedaten definiert. Die API-Endpunkte in der pages/api-Directory verarbeiten die eingehenden Anfragen und führen nach erfolgreicher Authentifizierung die entsprechenden Datenbankoperationen durch. Für die Sicherheit der Datenbankoperationen werden Prepared Statements verwendet, die SQL-Injection-Angriffe verhindern und die Eingabedaten validieren. Jede Datenbankoperation ist in einen Try-Catch-Block eingebettet, der mögliche Fehler abfängt und entsprechende HTTP-Statuscodes zurückgibt. Die Datenbankintegration ist modular aufgebaut, sodass die Datenbankverbindung zentral verwaltet wird und von allen API-Endpunkten wiederverwendet werden kann. Die Implementierung ermöglicht eine effiziente und sichere Datenverwaltung, wobei die Authentifizierung der Benutzer über NextAuth.js erfolgt und die Datenbankoperationen nur für authentifizierte Benutzer zugänglich sind."
   ]
  },
  {
   "cell_type": "markdown",
   "metadata": {},
   "source": [
    "### Datenbank Model"
   ]
  },
  {
   "cell_type": "markdown",
   "metadata": {},
   "source": [
    "Die relationale PostgreSQL-Datenbank besteht aus zwei Tabellen, die über einen Fremdschlüssel miteinander verbunden sind. Eine Tabelle mit allen Messwerten und der dazugehörigen Nutzer ID (check_in) und eine Benutzertabelle (users) mit allen Benutzerdaten."
   ]
  },
  {
   "cell_type": "markdown",
   "metadata": {},
   "source": [
    "| Spaltenname   | Datentyp       | Beschreibung                                                        |\n",
    "| ------------- | -------------- | ------------------------------------------------------------------- |\n",
    "| `id`          | `integer [PK]` | Primärschlüssel – Eindeutige ID für jeden Check-in                  |\n",
    "| `gewicht`     | `numeric(5,2)` | Gewicht des Benutzers (max. 5 Stellen, davon 2 Nachkommastellen)    |\n",
    "| `hueftumfang` | `numeric(5,2)` | Hüftumfang des Benutzers (max. 5 Stellen, davon 2 Nachkommastellen) |\n",
    "| `datum`       | `date`         | Datum des Check-ins                                                 |\n",
    "| `user_id`     | `integer [FK]` | Fremdschlüssel – Verweis auf `users.id`                             |\n"
   ]
  },
  {
   "cell_type": "markdown",
   "metadata": {},
   "source": [
    "| Spaltenname | Datentyp       | Beschreibung                                                                       |\n",
    "| ----------- | -------------- | ---------------------------------------------------------------------------------- |\n",
    "| `id`        | `integer [PK]` | Primärschlüssel – Eindeutige ID für jeden Benutzer                                 |\n",
    "| `username`  | `text`         | Benutzername für die Anmeldung                                                     |\n",
    "| `password`  | `text`         | Passwort des Benutzers (**Hinweis:** Sollte nicht im Klartext gespeichert werden!) |\n"
   ]
  },
  {
   "cell_type": "markdown",
   "metadata": {},
   "source": [
    "### Verwendete Entwicklertools"
   ]
  },
  {
   "cell_type": "markdown",
   "metadata": {},
   "source": [
    "Die Webseite wurde mit Next.js 15.3.2 als Hauptframework entwickelt, das auf React 19.0.0 basiert und Server-Side Rendering sowie optimierte Performance ermöglicht. Für das Styling wird Tailwind CSS verwendet, das eine utility-first CSS-Framework-Architektur bietet und die Entwicklung einer responsiven Benutzeroberfläche erleichtert. Die Datenvisualisierung wird durch die Recharts-Bibliothek realisiert, die interaktive und anpassbare Diagramme ermöglicht, während ESLint als Linting-Tool eingesetzt wird, um Code-Qualität und Konsistenz zu gewährleisten. Die Entwicklungsumgebung nutzt PostCSS für die Verarbeitung von CSS-Dateien und ermöglicht die Verwendung moderner CSS-Features, während das jsconfig.json die JavaScript-Konfiguration optimiert und bessere IDE-Unterstützung bietet. Für die Versionskontrolle wird Git verwendet."
   ]
  },
  {
   "cell_type": "markdown",
   "metadata": {},
   "source": [
    "| Komponente              | Beschreibung                                                                                           |\n",
    "|------------------------|--------------------------------------------------------------------------------------------------------|\n",
    "| **Framework**          | Next.js 15.3.2 – Basierend auf React 19.0.0, ermöglicht Server-Side Rendering und hohe Performance     |\n",
    "| **UI-Bibliothek**      | React 19.0.0 – Moderne Komponentenarchitektur                                                           |\n",
    "| **Styling**            | Tailwind CSS – Utility-first Framework für responsives Design                                          |\n",
    "| **Datenvisualisierung**| Recharts – Interaktive und anpassbare Diagramme                                                        |\n",
    "| **Linting**            | ESLint – Gewährleistet Codequalität und -konsistenz                                                    |\n",
    "| **CSS-Verarbeitung**   | PostCSS – Ermöglicht moderne CSS-Features                                                              |\n",
    "| **JS-Konfiguration**   | jsconfig.json – Bessere Unterstützung für IDEs und vereinfachte Imports                                |\n",
    "| **Versionskontrolle**  | Git – Verfolgung und Verwaltung des Quellcodes                                                         |\n"
   ]
  }
 ],
 "metadata": {
  "language_info": {
   "name": "python"
  }
 },
 "nbformat": 4,
 "nbformat_minor": 2
}
